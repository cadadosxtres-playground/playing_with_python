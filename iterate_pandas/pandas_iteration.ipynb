{
 "cells": [
  {
   "cell_type": "markdown",
   "metadata": {},
   "source": [
    "# An example of iteration over DataFrame\n",
    "\n",
    "Firstly create a virtual environment and install pandas httpx and codetiming\n",
    "\n",
    "```bash\n",
    "python3 -m venv .venv\n",
    ".venv/bin/active\n",
    "python -m pip install pandas httpx codetiming\n",
    "```"
   ]
  },
  {
   "cell_type": "code",
   "execution_count": 9,
   "metadata": {},
   "outputs": [
    {
     "data": {
      "text/html": [
       "<div>\n",
       "<style scoped>\n",
       "    .dataframe tbody tr th:only-of-type {\n",
       "        vertical-align: middle;\n",
       "    }\n",
       "\n",
       "    .dataframe tbody tr th {\n",
       "        vertical-align: top;\n",
       "    }\n",
       "\n",
       "    .dataframe thead th {\n",
       "        text-align: right;\n",
       "    }\n",
       "</style>\n",
       "<table border=\"1\" class=\"dataframe\">\n",
       "  <thead>\n",
       "    <tr style=\"text-align: right;\">\n",
       "      <th></th>\n",
       "      <th>name</th>\n",
       "      <th>url</th>\n",
       "      <th>total_views</th>\n",
       "    </tr>\n",
       "  </thead>\n",
       "  <tbody>\n",
       "    <tr>\n",
       "      <th>0</th>\n",
       "      <td>Google</td>\n",
       "      <td>https://www.google.com</td>\n",
       "      <td>5.207268e+11</td>\n",
       "    </tr>\n",
       "    <tr>\n",
       "      <th>1</th>\n",
       "      <td>YouTube</td>\n",
       "      <td>https://www.youtube.com</td>\n",
       "      <td>2.358132e+11</td>\n",
       "    </tr>\n",
       "    <tr>\n",
       "      <th>2</th>\n",
       "      <td>Facebook</td>\n",
       "      <td>https://www.facebook.com</td>\n",
       "      <td>2.230157e+11</td>\n",
       "    </tr>\n",
       "    <tr>\n",
       "      <th>3</th>\n",
       "      <td>Yahoo</td>\n",
       "      <td>https://www.yahoo.com</td>\n",
       "      <td>1.256544e+11</td>\n",
       "    </tr>\n",
       "    <tr>\n",
       "      <th>4</th>\n",
       "      <td>Wikipedia</td>\n",
       "      <td>https://www.wikipedia.org</td>\n",
       "      <td>4.467364e+10</td>\n",
       "    </tr>\n",
       "    <tr>\n",
       "      <th>5</th>\n",
       "      <td>Baidu</td>\n",
       "      <td>https://www.baidu.com</td>\n",
       "      <td>4.409759e+10</td>\n",
       "    </tr>\n",
       "    <tr>\n",
       "      <th>6</th>\n",
       "      <td>Twitter</td>\n",
       "      <td>https://twitter.com</td>\n",
       "      <td>3.098676e+10</td>\n",
       "    </tr>\n",
       "    <tr>\n",
       "      <th>7</th>\n",
       "      <td>Yandex</td>\n",
       "      <td>https://yandex.com</td>\n",
       "      <td>2.857980e+10</td>\n",
       "    </tr>\n",
       "    <tr>\n",
       "      <th>8</th>\n",
       "      <td>Instagram</td>\n",
       "      <td>https://www.instagram.com</td>\n",
       "      <td>2.621520e+10</td>\n",
       "    </tr>\n",
       "    <tr>\n",
       "      <th>9</th>\n",
       "      <td>AOL</td>\n",
       "      <td>https://www.aol.com</td>\n",
       "      <td>2.321232e+10</td>\n",
       "    </tr>\n",
       "    <tr>\n",
       "      <th>10</th>\n",
       "      <td>Netscape</td>\n",
       "      <td>https://www.netscape.com</td>\n",
       "      <td>5.750000e+06</td>\n",
       "    </tr>\n",
       "    <tr>\n",
       "      <th>11</th>\n",
       "      <td>Nope</td>\n",
       "      <td>https://alwaysfails.example.com</td>\n",
       "      <td>0.000000e+00</td>\n",
       "    </tr>\n",
       "  </tbody>\n",
       "</table>\n",
       "</div>"
      ],
      "text/plain": [
       "         name                              url   total_views\n",
       "0      Google           https://www.google.com  5.207268e+11\n",
       "1     YouTube          https://www.youtube.com  2.358132e+11\n",
       "2    Facebook         https://www.facebook.com  2.230157e+11\n",
       "3       Yahoo            https://www.yahoo.com  1.256544e+11\n",
       "4   Wikipedia        https://www.wikipedia.org  4.467364e+10\n",
       "5       Baidu            https://www.baidu.com  4.409759e+10\n",
       "6     Twitter              https://twitter.com  3.098676e+10\n",
       "7      Yandex               https://yandex.com  2.857980e+10\n",
       "8   Instagram        https://www.instagram.com  2.621520e+10\n",
       "9         AOL              https://www.aol.com  2.321232e+10\n",
       "10   Netscape         https://www.netscape.com  5.750000e+06\n",
       "11       Nope  https://alwaysfails.example.com  0.000000e+00"
      ]
     },
     "execution_count": 9,
     "metadata": {},
     "output_type": "execute_result"
    }
   ],
   "source": [
    "import pandas as pd\n",
    "websites = pd.read_csv(\"popular_websites.csv\")\n",
    "websites"
   ]
  },
  {
   "attachments": {},
   "cell_type": "markdown",
   "metadata": {},
   "source": [
    "## Iterating over pandas\n",
    "Assuming you want to check website connectivity lets define a function and then iterate over DataFrame"
   ]
  },
  {
   "cell_type": "code",
   "execution_count": 10,
   "metadata": {},
   "outputs": [
    {
     "name": "stdout",
     "output_type": "stream",
     "text": [
      "Google is online!\n",
      "YouTube is online!\n",
      "Facebook is online!\n",
      "Yahoo is online!\n",
      "Wikipedia is online!\n",
      "Baidu is online!\n",
      "Twitter is online!\n",
      "Yandex is online!\n",
      "Instagram is online!\n",
      "AOL is online!\n",
      "Netscape is online! But redirects to https://www.aol.com/\n",
      "Failed to establish a connection with https://alwaysfails.example.com\n"
     ]
    }
   ],
   "source": [
    "import httpx\n",
    "def check_connection(name, url):\n",
    "    try:\n",
    "        response = httpx.get(url)\n",
    "        location = response.headers.get(\"location\")\n",
    "        if location is None or location.startswith(url):\n",
    "            print(f\"{name} is online!\")\n",
    "        else:\n",
    "            print(f\"{name} is online! But redirects to {location}\")\n",
    "        return True\n",
    "    except httpx.ConnectError:\n",
    "        print(f\"Failed to establish a connection with {url}\")\n",
    "### Lopping over websites DataFrame\n",
    "for web in websites.itertuples():\n",
    "    check_connection(web.name,web.url)\n"
   ]
  },
  {
   "attachments": {},
   "cell_type": "markdown",
   "metadata": {},
   "source": [
    "## Using vectorized methods over iteration for Summing a Column"
   ]
  },
  {
   "attachments": {},
   "cell_type": "markdown",
   "metadata": {},
   "source": [
    "### Iterating over DataFrame"
   ]
  },
  {
   "cell_type": "code",
   "execution_count": 11,
   "metadata": {},
   "outputs": [
    {
     "name": "stdout",
     "output_type": "stream",
     "text": [
      "Total using loop_sum: 1302981160000.0\n"
     ]
    }
   ],
   "source": [
    "def loop_sum(websites):\n",
    "    total = 0\n",
    "    for web in websites.itertuples():\n",
    "        total += web.total_views\n",
    "    return total\n",
    "print('Total using loop_sum: {}'.format(loop_sum(websites)))"
   ]
  },
  {
   "attachments": {},
   "cell_type": "markdown",
   "metadata": {},
   "source": [
    "### List Comprenhension"
   ]
  },
  {
   "cell_type": "code",
   "execution_count": 12,
   "metadata": {},
   "outputs": [
    {
     "name": "stdout",
     "output_type": "stream",
     "text": [
      "Total using Python List Comprehension: 1302981160000.0\n"
     ]
    }
   ],
   "source": [
    "def python_sum(websites):\n",
    "    return sum(web.total_views for web in websites.itertuples())\n",
    "print('Total using Python List Comprehension: {}'.format(python_sum(websites)))"
   ]
  },
  {
   "attachments": {},
   "cell_type": "markdown",
   "metadata": {},
   "source": [
    "### Using pandas"
   ]
  },
  {
   "cell_type": "code",
   "execution_count": 14,
   "metadata": {},
   "outputs": [
    {
     "name": "stdout",
     "output_type": "stream",
     "text": [
      "Total using Pandas Sum: 1302981160000.0\n"
     ]
    }
   ],
   "source": [
    "def pandas_sum(websites):\n",
    "    return websites[\"total_views\"].sum()\n",
    "print('Total using Pandas Sum: {}'.format(pandas_sum(websites)))"
   ]
  },
  {
   "attachments": {},
   "cell_type": "markdown",
   "metadata": {},
   "source": [
    "## Checking out execution time for each method above"
   ]
  },
  {
   "attachments": {},
   "cell_type": "markdown",
   "metadata": {},
   "source": [
    "### Checking out with original data source"
   ]
  },
  {
   "cell_type": "code",
   "execution_count": 19,
   "metadata": {},
   "outputs": [
    {
     "name": "stdout",
     "output_type": "stream",
     "text": [
      "loop_sum            :  1.14 ms\n",
      "python_sum          :  0.83 ms\n",
      "pandas_sum          :  0.31 ms\n"
     ]
    }
   ],
   "source": [
    "from codetiming import Timer\n",
    "for func in [loop_sum, python_sum, pandas_sum]:\n",
    "    with Timer(name=func.__name__, text=\"{name:20}: {milliseconds: .2f} ms\"):\n",
    "        func(websites)"
   ]
  },
  {
   "attachments": {},
   "cell_type": "markdown",
   "metadata": {},
   "source": [
    "There is a significant performance between each method"
   ]
  },
  {
   "attachments": {},
   "cell_type": "markdown",
   "metadata": {},
   "source": [
    "### Checking out with thousands of web sites"
   ]
  },
  {
   "cell_type": "code",
   "execution_count": 21,
   "metadata": {},
   "outputs": [
    {
     "name": "stdout",
     "output_type": "stream",
     "text": [
      "loop_sum            :  15.76 ms\n",
      "python_sum          :  10.18 ms\n",
      "pandas_sum          :  0.36 ms\n"
     ]
    }
   ],
   "source": [
    "from codetiming import Timer\n",
    "websites1000 = pd.concat(1000*[websites])\n",
    "for func in [loop_sum, python_sum, pandas_sum]:\n",
    "    with Timer(name=func.__name__, text=\"{name:20}: {milliseconds: .2f} ms\"):\n",
    "        func(websites1000)"
   ]
  },
  {
   "attachments": {},
   "cell_type": "markdown",
   "metadata": {},
   "source": [
    "As long as the DataFrame is increasing the pandas methos is more efficiant"
   ]
  },
  {
   "attachments": {},
   "cell_type": "markdown",
   "metadata": {},
   "source": [
    "## Using vectorized methods over iteration with an Intermediate Columns"
   ]
  },
  {
   "cell_type": "code",
   "execution_count": 22,
   "metadata": {},
   "outputs": [
    {
     "data": {
      "text/html": [
       "<div>\n",
       "<style scoped>\n",
       "    .dataframe tbody tr th:only-of-type {\n",
       "        vertical-align: middle;\n",
       "    }\n",
       "\n",
       "    .dataframe tbody tr th {\n",
       "        vertical-align: top;\n",
       "    }\n",
       "\n",
       "    .dataframe thead th {\n",
       "        text-align: right;\n",
       "    }\n",
       "</style>\n",
       "<table border=\"1\" class=\"dataframe\">\n",
       "  <thead>\n",
       "    <tr style=\"text-align: right;\">\n",
       "      <th></th>\n",
       "      <th>month</th>\n",
       "      <th>sales</th>\n",
       "      <th>unit_price</th>\n",
       "    </tr>\n",
       "  </thead>\n",
       "  <tbody>\n",
       "    <tr>\n",
       "      <th>0</th>\n",
       "      <td>january</td>\n",
       "      <td>3</td>\n",
       "      <td>0.50</td>\n",
       "    </tr>\n",
       "    <tr>\n",
       "      <th>1</th>\n",
       "      <td>february</td>\n",
       "      <td>2</td>\n",
       "      <td>0.53</td>\n",
       "    </tr>\n",
       "    <tr>\n",
       "      <th>2</th>\n",
       "      <td>march</td>\n",
       "      <td>5</td>\n",
       "      <td>0.55</td>\n",
       "    </tr>\n",
       "    <tr>\n",
       "      <th>3</th>\n",
       "      <td>april</td>\n",
       "      <td>10</td>\n",
       "      <td>0.71</td>\n",
       "    </tr>\n",
       "    <tr>\n",
       "      <th>4</th>\n",
       "      <td>may</td>\n",
       "      <td>8</td>\n",
       "      <td>0.66</td>\n",
       "    </tr>\n",
       "  </tbody>\n",
       "</table>\n",
       "</div>"
      ],
      "text/plain": [
       "      month  sales  unit_price\n",
       "0   january      3        0.50\n",
       "1  february      2        0.53\n",
       "2     march      5        0.55\n",
       "3     april     10        0.71\n",
       "4       may      8        0.66"
      ]
     },
     "execution_count": 22,
     "metadata": {},
     "output_type": "execute_result"
    }
   ],
   "source": [
    "import pandas as pd\n",
    "products = pd.read_csv(\"products.csv\")\n",
    "products"
   ]
  },
  {
   "attachments": {},
   "cell_type": "markdown",
   "metadata": {},
   "source": [
    "### Iterating method with and intermedia compute"
   ]
  },
  {
   "cell_type": "code",
   "execution_count": 25,
   "metadata": {},
   "outputs": [
    {
     "data": {
      "text/html": [
       "<div>\n",
       "<style scoped>\n",
       "    .dataframe tbody tr th:only-of-type {\n",
       "        vertical-align: middle;\n",
       "    }\n",
       "\n",
       "    .dataframe tbody tr th {\n",
       "        vertical-align: top;\n",
       "    }\n",
       "\n",
       "    .dataframe thead th {\n",
       "        text-align: right;\n",
       "    }\n",
       "</style>\n",
       "<table border=\"1\" class=\"dataframe\">\n",
       "  <thead>\n",
       "    <tr style=\"text-align: right;\">\n",
       "      <th></th>\n",
       "      <th>month</th>\n",
       "      <th>sales</th>\n",
       "      <th>unit_price</th>\n",
       "      <th>comulative_income</th>\n",
       "    </tr>\n",
       "  </thead>\n",
       "  <tbody>\n",
       "    <tr>\n",
       "      <th>0</th>\n",
       "      <td>january</td>\n",
       "      <td>3</td>\n",
       "      <td>0.50</td>\n",
       "      <td>1.50</td>\n",
       "    </tr>\n",
       "    <tr>\n",
       "      <th>1</th>\n",
       "      <td>february</td>\n",
       "      <td>2</td>\n",
       "      <td>0.53</td>\n",
       "      <td>2.56</td>\n",
       "    </tr>\n",
       "    <tr>\n",
       "      <th>2</th>\n",
       "      <td>march</td>\n",
       "      <td>5</td>\n",
       "      <td>0.55</td>\n",
       "      <td>5.31</td>\n",
       "    </tr>\n",
       "    <tr>\n",
       "      <th>3</th>\n",
       "      <td>april</td>\n",
       "      <td>10</td>\n",
       "      <td>0.71</td>\n",
       "      <td>12.41</td>\n",
       "    </tr>\n",
       "    <tr>\n",
       "      <th>4</th>\n",
       "      <td>may</td>\n",
       "      <td>8</td>\n",
       "      <td>0.66</td>\n",
       "      <td>17.69</td>\n",
       "    </tr>\n",
       "  </tbody>\n",
       "</table>\n",
       "</div>"
      ],
      "text/plain": [
       "      month  sales  unit_price  comulative_income\n",
       "0   january      3        0.50               1.50\n",
       "1  february      2        0.53               2.56\n",
       "2     march      5        0.55               5.31\n",
       "3     april     10        0.71              12.41\n",
       "4       may      8        0.66              17.69"
      ]
     },
     "execution_count": 25,
     "metadata": {},
     "output_type": "execute_result"
    }
   ],
   "source": [
    "import pandas as pd\n",
    "products = pd.read_csv(\"products.csv\")\n",
    "def loop_cumsum(products):\n",
    "    comulative_sum = []\n",
    "    for prod in products.itertuples():\n",
    "        income = prod.sales * prod.unit_price\n",
    "        if comulative_sum:\n",
    "            comulative_sum.append(comulative_sum[-1] + income)\n",
    "        else:\n",
    "            comulative_sum.append(income)\n",
    "    return products.assign(comulative_income=comulative_sum)\n",
    "\n",
    "loop_cumsum(products)\n"
   ]
  },
  {
   "attachments": {},
   "cell_type": "markdown",
   "metadata": {},
   "source": [
    "### Pandas Comulative sum using intermedia column"
   ]
  },
  {
   "cell_type": "code",
   "execution_count": 27,
   "metadata": {},
   "outputs": [
    {
     "data": {
      "text/html": [
       "<div>\n",
       "<style scoped>\n",
       "    .dataframe tbody tr th:only-of-type {\n",
       "        vertical-align: middle;\n",
       "    }\n",
       "\n",
       "    .dataframe tbody tr th {\n",
       "        vertical-align: top;\n",
       "    }\n",
       "\n",
       "    .dataframe thead th {\n",
       "        text-align: right;\n",
       "    }\n",
       "</style>\n",
       "<table border=\"1\" class=\"dataframe\">\n",
       "  <thead>\n",
       "    <tr style=\"text-align: right;\">\n",
       "      <th></th>\n",
       "      <th>month</th>\n",
       "      <th>sales</th>\n",
       "      <th>unit_price</th>\n",
       "      <th>comulative_income</th>\n",
       "    </tr>\n",
       "  </thead>\n",
       "  <tbody>\n",
       "    <tr>\n",
       "      <th>0</th>\n",
       "      <td>january</td>\n",
       "      <td>3</td>\n",
       "      <td>0.50</td>\n",
       "      <td>1.50</td>\n",
       "    </tr>\n",
       "    <tr>\n",
       "      <th>1</th>\n",
       "      <td>february</td>\n",
       "      <td>2</td>\n",
       "      <td>0.53</td>\n",
       "      <td>2.56</td>\n",
       "    </tr>\n",
       "    <tr>\n",
       "      <th>2</th>\n",
       "      <td>march</td>\n",
       "      <td>5</td>\n",
       "      <td>0.55</td>\n",
       "      <td>5.31</td>\n",
       "    </tr>\n",
       "    <tr>\n",
       "      <th>3</th>\n",
       "      <td>april</td>\n",
       "      <td>10</td>\n",
       "      <td>0.71</td>\n",
       "      <td>12.41</td>\n",
       "    </tr>\n",
       "    <tr>\n",
       "      <th>4</th>\n",
       "      <td>may</td>\n",
       "      <td>8</td>\n",
       "      <td>0.66</td>\n",
       "      <td>17.69</td>\n",
       "    </tr>\n",
       "  </tbody>\n",
       "</table>\n",
       "</div>"
      ],
      "text/plain": [
       "      month  sales  unit_price  comulative_income\n",
       "0   january      3        0.50               1.50\n",
       "1  february      2        0.53               2.56\n",
       "2     march      5        0.55               5.31\n",
       "3     april     10        0.71              12.41\n",
       "4       may      8        0.66              17.69"
      ]
     },
     "execution_count": 27,
     "metadata": {},
     "output_type": "execute_result"
    }
   ],
   "source": [
    "import pandas as pd\n",
    "products = pd.read_csv(\"products.csv\")\n",
    "\n",
    "def pandas_cumsum(products):\n",
    "    return products.assign(\n",
    "        income = lambda df: df[\"sales\"] * df[\"unit_price\"],\n",
    "        comulative_income= lambda df: df[\"income\"].cumsum()\n",
    "    ).drop(columns=\"income\")\n",
    "\n",
    "pandas_cumsum(products)"
   ]
  },
  {
   "attachments": {},
   "cell_type": "markdown",
   "metadata": {},
   "source": [
    "## Checking out Performance with intermedia column"
   ]
  },
  {
   "attachments": {},
   "cell_type": "markdown",
   "metadata": {},
   "source": [
    "### Checking out with original data"
   ]
  },
  {
   "cell_type": "code",
   "execution_count": 29,
   "metadata": {},
   "outputs": [
    {
     "name": "stdout",
     "output_type": "stream",
     "text": [
      "loop_cumsum         :  1.42 ms\n",
      "pandas_cumsum       :  2.62 ms\n"
     ]
    }
   ],
   "source": [
    "from codetiming import Timer\n",
    "import pandas as pd\n",
    "\n",
    "for func in [loop_cumsum, pandas_cumsum]:\n",
    "    prod = pd.read_csv(\"products.csv\")\n",
    "    with Timer(name=func.__name__, text=\"{name:20}: {milliseconds: .2f} ms\"):\n",
    "        func(prod)\n"
   ]
  },
  {
   "attachments": {},
   "cell_type": "markdown",
   "metadata": {},
   "source": [
    "Apparently the for method looks faster and indeed it's faster for tiny dataset."
   ]
  },
  {
   "attachments": {},
   "cell_type": "markdown",
   "metadata": {},
   "source": [
    "### Checking out performance with thousands of rows  "
   ]
  },
  {
   "cell_type": "code",
   "execution_count": 32,
   "metadata": {},
   "outputs": [
    {
     "name": "stdout",
     "output_type": "stream",
     "text": [
      "loop_cumsum         :  7.60 ms\n",
      "pandas_cumsum       :  2.54 ms\n"
     ]
    }
   ],
   "source": [
    "from codetiming import Timer\n",
    "import pandas as pd\n",
    "\n",
    "for func in [loop_cumsum, pandas_cumsum]:\n",
    "    prod = pd.read_csv(\"products.csv\")\n",
    "    prod = pd.concat(1000*[prod])\n",
    "    with Timer(name=func.__name__, text=\"{name:20}: {milliseconds: .2f} ms\"):\n",
    "        func(prod)"
   ]
  },
  {
   "attachments": {},
   "cell_type": "markdown",
   "metadata": {},
   "source": [
    "We can see as long as the datase is increasing the vectorised method performance is better that iteration one."
   ]
  },
  {
   "attachments": {},
   "cell_type": "markdown",
   "metadata": {},
   "source": [
    "#### Caveats\n",
    "* All test has been done in a MacBook Pro Mid 2012 with 16GB RAM and Ubuntu 20.04.1\n",
    "* Based on [How to Iterate Over Rows in pandas, and Why You Shouldn't](https://realpython.com/pandas-iterate-over-rows/)"
   ]
  }
 ],
 "metadata": {
  "kernelspec": {
   "display_name": ".venv",
   "language": "python",
   "name": "python3"
  },
  "language_info": {
   "codemirror_mode": {
    "name": "ipython",
    "version": 3
   },
   "file_extension": ".py",
   "mimetype": "text/x-python",
   "name": "python",
   "nbconvert_exporter": "python",
   "pygments_lexer": "ipython3",
   "version": "3.8.10"
  },
  "orig_nbformat": 4,
  "vscode": {
   "interpreter": {
    "hash": "04216a7b50666d3b54a1c42af8a7ac881790e64fb10265eda32bf3e4f9c63a9a"
   }
  }
 },
 "nbformat": 4,
 "nbformat_minor": 2
}
